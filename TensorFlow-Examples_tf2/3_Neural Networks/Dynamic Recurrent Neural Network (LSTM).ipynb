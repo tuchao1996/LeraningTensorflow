{
 "cells": [
  {
   "cell_type": "markdown",
   "metadata": {
    "collapsed": true,
    "pycharm": {
     "name": "#%% md\n"
    }
   },
   "source": [
    "# Dynamic Recurrent Neural Network.\n",
    "\n",
    "TensorFlow 2.0 implementation of a Recurrent Neural Network (LSTM) that performs dynamic computation over sequences with variable length. This example is using a toy dataset to classify linear sequences. The generated sequences have variable length."
   ]
  },
  {
   "cell_type": "code",
   "execution_count": 6,
   "outputs": [],
   "source": [
    "from __future__ import absolute_import, division, print_function\n",
    "\n",
    "# Import TensorFlow v2.\n",
    "import tensorflow as tf\n",
    "from tensorflow.keras import Model, layers\n",
    "import numpy as np\n",
    "import random"
   ],
   "metadata": {
    "collapsed": false,
    "pycharm": {
     "name": "#%%\n"
    }
   }
  },
  {
   "cell_type": "code",
   "execution_count": 7,
   "outputs": [],
   "source": [
    "# Dataset parameters.\n",
    "num_classes = 2 # linear sequence or not.\n",
    "seq_max_len = 20 # Maximum sequence length.\n",
    "seq_min_len = 5 # Minimum sequence length (before padding).\n",
    "masking_val = -1 # -1 will represents the mask and be used to pad sequences to a common max length.\n",
    "max_value = 10000 # Maximum int value.\n",
    "\n",
    "# Training Parameters\n",
    "learning_rate = 0.001\n",
    "training_steps = 2000\n",
    "batch_size = 64\n",
    "display_step = 100\n",
    "\n",
    "# Network Parameters\n",
    "num_units = 32 # number of neurons for the LSTM layer."
   ],
   "metadata": {
    "collapsed": false,
    "pycharm": {
     "name": "#%%\n"
    }
   }
  },
  {
   "cell_type": "code",
   "execution_count": 8,
   "outputs": [],
   "source": [
    "# ====================\n",
    "#  TOY DATA GENERATOR\n",
    "# ====================\n",
    "\n",
    "def toy_sequence_data():\n",
    "    \"\"\" Generate sequence of data with dynamic length.\n",
    "    This function generates toy samples for training:\n",
    "    - Class 0: linear sequences (i.e. [1, 2, 3, 4, ...])\n",
    "    - Class 1: random sequences (i.e. [9, 3, 10, 7,...])\n",
    "\n",
    "    NOTICE:\n",
    "    We have to pad each sequence to reach 'seq_max_len' for TensorFlow\n",
    "    consistency (we cannot feed a numpy array with inconsistent\n",
    "    dimensions). The dynamic calculation will then be perform and ignore\n",
    "    the masked value (here -1).\n",
    "    \"\"\"\n",
    "    while True:\n",
    "        # Set variable sequence length.\n",
    "        seq_len = random.randint(seq_min_len, seq_max_len)\n",
    "        rand_start = random.randint(0, max_value - seq_len)\n",
    "        # Add a random or linear int sequence (50% prob).\n",
    "        if random.random() < .5:\n",
    "            # Generate a linear sequence.\n",
    "            seq = np.arange(start=rand_start, stop=rand_start+seq_len)\n",
    "            # Rescale values to [0., 1.].\n",
    "            seq = seq / max_value\n",
    "            # Pad sequence until the maximum length for dimension consistency.\n",
    "            # Masking value: -1.\n",
    "            seq = np.pad(seq, mode='constant', pad_width=(0, seq_max_len-seq_len), constant_values=masking_val)\n",
    "            label = 0\n",
    "        else:\n",
    "            # Generate a random sequence.\n",
    "            seq = np.random.randint(max_value, size=seq_len)\n",
    "            # Rescale values to [0., 1.].\n",
    "            seq = seq / max_value\n",
    "            # Pad sequence until the maximum length for dimension consistency.\n",
    "            # Masking value: -1.\n",
    "            seq = np.pad(seq, mode='constant', pad_width=(0, seq_max_len-seq_len), constant_values=masking_val)\n",
    "            label = 1\n",
    "        yield np.array(seq, dtype=np.float32), np.array(label, dtype=np.float32)"
   ],
   "metadata": {
    "collapsed": false,
    "pycharm": {
     "name": "#%%\n"
    }
   }
  },
  {
   "cell_type": "code",
   "execution_count": 9,
   "outputs": [],
   "source": [
    "# Use tf.data API to shuffle and batch data.\n",
    "train_data = tf.data.Dataset.from_generator(toy_sequence_data, output_types=(tf.float32, tf.float32))\n",
    "train_data = train_data.repeat().shuffle(5000).batch(batch_size).prefetch(1)"
   ],
   "metadata": {
    "collapsed": false,
    "pycharm": {
     "name": "#%%\n"
    }
   }
  },
  {
   "cell_type": "code",
   "execution_count": 10,
   "outputs": [],
   "source": [
    "# Create LSTM Model.\n",
    "class LSTM(Model):\n",
    "    # Set layers.\n",
    "    def __init__(self):\n",
    "        super().__init__()\n",
    "        # Define a Masking Layer with -1 as mask.\n",
    "        self.masking = layers.Masking(mask_value=masking_val)\n",
    "        # Define a LSTM layer to be applied over the Masking layer.\n",
    "        # Dynamic computation will automatically be performed to ignore -1 values.\n",
    "        self.lstm = layers.LSTM(units=num_units)\n",
    "        # Output fully connected layer (2 classes: linear or random seq).\n",
    "        self.out = layers.Dense(num_classes)\n",
    "\n",
    "    # Set forward pass.\n",
    "    def call(self, x, is_training=False):\n",
    "        # A RNN Layer expects a 3-dim input (batch_size, seq_len, num_features).\n",
    "        x = tf.reshape(x, shape=[-1, seq_max_len, 1])\n",
    "        # Apply Masking layer.\n",
    "        x = self.masking(x)\n",
    "        # Apply LSTM layer.\n",
    "        x = self.lstm(x)\n",
    "        # Apply output layer.\n",
    "        x = self.out(x)\n",
    "        if not is_training:\n",
    "            # tf cross entropy expect logits without softmax, so only\n",
    "            # apply softmax when not training.\n",
    "            x = tf.nn.softmax(x)\n",
    "        return x\n",
    "\n",
    "# Build LSTM model.\n",
    "lstm_net = LSTM()"
   ],
   "metadata": {
    "collapsed": false,
    "pycharm": {
     "name": "#%%\n"
    }
   }
  },
  {
   "cell_type": "code",
   "execution_count": 11,
   "outputs": [],
   "source": [
    "\n",
    "# Cross-Entropy Loss.\n",
    "# Note that this will apply 'softmax' to the logits.\n",
    "def cross_entropy_loss(x, y):\n",
    "    # Convert labels to int 64 for tf cross-entropy function.\n",
    "    y = tf.cast(y, tf.int64)\n",
    "    # Apply softmax to logits and compute cross-entropy.\n",
    "    loss = tf.nn.sparse_softmax_cross_entropy_with_logits(labels=y, logits=x)\n",
    "    # Average loss across the batch.\n",
    "    return tf.reduce_mean(loss)\n",
    "\n",
    "# Accuracy metric.\n",
    "def accuracy(y_pred, y_true):\n",
    "    # Predicted class is the index of highest score in prediction vector (i.e. argmax).\n",
    "    correct_prediction = tf.equal(tf.argmax(y_pred, 1), tf.cast(y_true, tf.int64))\n",
    "    return tf.reduce_mean(tf.cast(correct_prediction, tf.float32), axis=-1)\n",
    "\n",
    "# Stochastic gradient descent optimizer.\n",
    "optimizer = tf.optimizers.Adam(learning_rate)"
   ],
   "metadata": {
    "collapsed": false,
    "pycharm": {
     "name": "#%%\n"
    }
   }
  },
  {
   "cell_type": "code",
   "execution_count": 12,
   "outputs": [],
   "source": [
    "# optimization process\n",
    "def run_optimization(x, y):\n",
    "    with tf.GradientTape() as g:\n",
    "        y_pred = lstm_net(x, is_training=True)\n",
    "        loss = cross_entropy_loss(y_pred, y)\n",
    "    gradients = g.gradient(target=loss, sources=lstm_net.trainable_variables)\n",
    "    optimizer.apply_gradients(grads_and_vars=zip(gradients, lstm_net.trainable_variables))"
   ],
   "metadata": {
    "collapsed": false,
    "pycharm": {
     "name": "#%%\n"
    }
   }
  },
  {
   "cell_type": "code",
   "execution_count": 13,
   "outputs": [
    {
     "name": "stdout",
     "output_type": "stream",
     "text": [
      "step:100 loss:0.6311988830566406 accuracy:0.75\n",
      "step:200 loss:0.5529564619064331 accuracy:0.828125\n",
      "step:300 loss:0.5148035287857056 accuracy:0.859375\n",
      "step:400 loss:0.48582643270492554 accuracy:0.890625\n",
      "step:500 loss:0.495609313249588 accuracy:0.828125\n",
      "step:600 loss:0.44513675570487976 accuracy:0.875\n",
      "step:700 loss:0.41907429695129395 accuracy:0.90625\n",
      "step:800 loss:0.40227368474006653 accuracy:0.921875\n",
      "step:900 loss:0.3678722083568573 accuracy:0.984375\n",
      "step:1000 loss:0.39085352420806885 accuracy:0.9375\n",
      "step:1100 loss:0.34999361634254456 accuracy:1.0\n",
      "step:1200 loss:0.3725008964538574 accuracy:0.984375\n",
      "step:1300 loss:0.3522368371486664 accuracy:0.984375\n",
      "step:1400 loss:0.3735697269439697 accuracy:0.953125\n",
      "step:1500 loss:0.3887955844402313 accuracy:0.9375\n",
      "step:1600 loss:0.40360236167907715 accuracy:0.953125\n",
      "step:1700 loss:0.3445083200931549 accuracy:1.0\n",
      "step:1800 loss:0.3618878126144409 accuracy:0.96875\n",
      "step:1900 loss:0.3521907925605774 accuracy:0.984375\n",
      "step:2000 loss:0.36424171924591064 accuracy:1.0\n"
     ]
    }
   ],
   "source": [
    "for step, (batch_x, batch_y) in enumerate(train_data.take(training_steps), 1):\n",
    "    run_optimization(batch_x, batch_y)\n",
    "    if not step % display_step:\n",
    "        pred = lstm_net(batch_x)\n",
    "        loss = cross_entropy_loss(pred, batch_y)\n",
    "        acc = accuracy(pred, batch_y)\n",
    "        print('step:{} loss:{} accuracy:{}'.format(step, loss, acc))"
   ],
   "metadata": {
    "collapsed": false,
    "pycharm": {
     "name": "#%%\n"
    }
   }
  },
  {
   "cell_type": "code",
   "execution_count": 26,
   "outputs": [
    {
     "name": "stdout",
     "output_type": "stream",
     "text": [
      "<class 'tensorflow.python.framework.ops.EagerTensor'>\n",
      "(64, 20)\n"
     ]
    }
   ],
   "source": [
    "for step, (x_test, y_test) in enumerate(train_data.take(2), 1):\n",
    "\n",
    "    # Test model on validation set.\n",
    "    pred = lstm_net(x_test)\n",
    "    print(\"Test Accuracy: %f\" % accuracy(pred, y_test))"
   ],
   "metadata": {
    "collapsed": false,
    "pycharm": {
     "name": "#%%\n"
    }
   }
  }
 ],
 "metadata": {
  "kernelspec": {
   "name": "tf2_0_0",
   "language": "python",
   "display_name": "tf2_0_0"
  },
  "language_info": {
   "codemirror_mode": {
    "name": "ipython",
    "version": 2
   },
   "file_extension": ".py",
   "mimetype": "text/x-python",
   "name": "python",
   "nbconvert_exporter": "python",
   "pygments_lexer": "ipython2",
   "version": "2.7.6"
  }
 },
 "nbformat": 4,
 "nbformat_minor": 0
}