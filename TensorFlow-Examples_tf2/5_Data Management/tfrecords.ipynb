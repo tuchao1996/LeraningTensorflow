{
 "cells": [
  {
   "cell_type": "markdown",
   "metadata": {
    "collapsed": true,
    "pycharm": {
     "name": "#%% md\n"
    }
   },
   "source": [
    "# Create and Load TFRecords\n",
    "\n",
    "A simple TensorFlow 2.0 example to parse a dataset into TFRecord format, and then read that dataset.\n",
    "\n",
    "In this example, the Titanic Dataset (in CSV format) will be used as a toy dataset, for parsing all the dataset features into TFRecord format, and then building an input pipeline that can be used for training models."
   ]
  },
  {
   "cell_type": "code",
   "execution_count": 1,
   "outputs": [],
   "source": [
    "import csv\n",
    "import requests\n",
    "import tensorflow as tf"
   ],
   "metadata": {
    "collapsed": false,
    "pycharm": {
     "name": "#%%\n"
    }
   }
  },
  {
   "cell_type": "code",
   "execution_count": 2,
   "outputs": [],
   "source": [
    "\n",
    "# Download Titanic dataset (in csv format).\n",
    "d = requests.get(\"https://raw.githubusercontent.com/tflearn/tflearn.github.io/master/resources/titanic_dataset.csv\")\n",
    "with open(\"titanic_dataset.csv\", \"wb\") as f:\n",
    "    f.write(d.content)"
   ],
   "metadata": {
    "collapsed": false,
    "pycharm": {
     "name": "#%%\n"
    }
   }
  },
  {
   "cell_type": "code",
   "execution_count": 5,
   "outputs": [],
   "source": [
    "# Generate Integer Features.\n",
    "def build_int64_feature(data):\n",
    "    return tf.train.Feature(int64_list=tf.train.Int64List(value=[data]))\n",
    "\n",
    "# Generate Float Features.\n",
    "def build_float_feature(data):\n",
    "    return tf.train.Feature(float_list=tf.train.FloatList(value=[data]))\n",
    "\n",
    "# Generate String Features.\n",
    "def build_string_feature(data):\n",
    "    return tf.train.Feature(bytes_list=tf.train.BytesList(value=[data]))\n",
    "\n",
    "# Generate a TF `Example`, parsing all features of the dataset.\n",
    "def convert_to_tfexample(survived, pclass, name, sex, age, sibsp, parch, ticket, fare):\n",
    "    return tf.train.Example(\n",
    "        features=tf.train.Features(\n",
    "            feature={\n",
    "                'survived': build_int64_feature(survived),\n",
    "                'pclass': build_int64_feature(pclass),\n",
    "                'name': build_string_feature(name),\n",
    "                'sex': build_string_feature(sex),\n",
    "                'age': build_float_feature(age),\n",
    "                'sibsp': build_int64_feature(sibsp),\n",
    "                'parch': build_int64_feature(parch),\n",
    "                'ticket': build_string_feature(ticket),\n",
    "                'fare': build_float_feature(fare),\n",
    "            })\n",
    "    )"
   ],
   "metadata": {
    "collapsed": false,
    "pycharm": {
     "name": "#%%\n"
    }
   }
  },
  {
   "cell_type": "code",
   "execution_count": 6,
   "outputs": [
    {
     "ename": "TypeError",
     "evalue": "'Allen, Miss. Elisabeth Walton' has type str, but expected one of: bytes",
     "output_type": "error",
     "traceback": [
      "\u001B[0;31m---------------------------------------------------------------------------\u001B[0m",
      "\u001B[0;31mTypeError\u001B[0m                                 Traceback (most recent call last)",
      "\u001B[0;32m<ipython-input-6-4399c1895239>\u001B[0m in \u001B[0;36m<module>\u001B[0;34m\u001B[0m\n\u001B[1;32m     12\u001B[0m             \u001B[0msurvived\u001B[0m\u001B[0;34m,\u001B[0m \u001B[0mpclass\u001B[0m\u001B[0;34m,\u001B[0m \u001B[0mname\u001B[0m\u001B[0;34m,\u001B[0m \u001B[0msex\u001B[0m\u001B[0;34m,\u001B[0m \u001B[0mage\u001B[0m\u001B[0;34m,\u001B[0m \u001B[0msibsp\u001B[0m\u001B[0;34m,\u001B[0m \u001B[0mparch\u001B[0m\u001B[0;34m,\u001B[0m \u001B[0mticket\u001B[0m\u001B[0;34m,\u001B[0m \u001B[0mfare\u001B[0m \u001B[0;34m=\u001B[0m \u001B[0mrecord\u001B[0m\u001B[0;34m\u001B[0m\u001B[0;34m\u001B[0m\u001B[0m\n\u001B[1;32m     13\u001B[0m             \u001B[0;31m# Parse each csv row to TF Example using the above functions.\u001B[0m\u001B[0;34m\u001B[0m\u001B[0;34m\u001B[0m\u001B[0;34m\u001B[0m\u001B[0m\n\u001B[0;32m---> 14\u001B[0;31m             \u001B[0mexample\u001B[0m \u001B[0;34m=\u001B[0m \u001B[0mconvert_to_tfexample\u001B[0m\u001B[0;34m(\u001B[0m\u001B[0mint\u001B[0m\u001B[0;34m(\u001B[0m\u001B[0msurvived\u001B[0m\u001B[0;34m)\u001B[0m\u001B[0;34m,\u001B[0m \u001B[0mint\u001B[0m\u001B[0;34m(\u001B[0m\u001B[0mpclass\u001B[0m\u001B[0;34m)\u001B[0m\u001B[0;34m,\u001B[0m \u001B[0mname\u001B[0m\u001B[0;34m,\u001B[0m \u001B[0msex\u001B[0m\u001B[0;34m,\u001B[0m \u001B[0mfloat\u001B[0m\u001B[0;34m(\u001B[0m\u001B[0mage\u001B[0m\u001B[0;34m)\u001B[0m\u001B[0;34m,\u001B[0m \u001B[0mint\u001B[0m\u001B[0;34m(\u001B[0m\u001B[0msibsp\u001B[0m\u001B[0;34m)\u001B[0m\u001B[0;34m,\u001B[0m \u001B[0mint\u001B[0m\u001B[0;34m(\u001B[0m\u001B[0mparch\u001B[0m\u001B[0;34m)\u001B[0m\u001B[0;34m,\u001B[0m \u001B[0mticket\u001B[0m\u001B[0;34m,\u001B[0m \u001B[0mfloat\u001B[0m\u001B[0;34m(\u001B[0m\u001B[0mfare\u001B[0m\u001B[0;34m)\u001B[0m\u001B[0;34m)\u001B[0m\u001B[0;34m\u001B[0m\u001B[0;34m\u001B[0m\u001B[0m\n\u001B[0m\u001B[1;32m     15\u001B[0m             \u001B[0;31m# Serialize each TF Example to string, and write to TFRecord file.\u001B[0m\u001B[0;34m\u001B[0m\u001B[0;34m\u001B[0m\u001B[0;34m\u001B[0m\u001B[0m\n\u001B[1;32m     16\u001B[0m             \u001B[0mw\u001B[0m\u001B[0;34m.\u001B[0m\u001B[0mwrite\u001B[0m\u001B[0;34m(\u001B[0m\u001B[0mexample\u001B[0m\u001B[0;34m.\u001B[0m\u001B[0mSerializeToString\u001B[0m\u001B[0;34m(\u001B[0m\u001B[0;34m)\u001B[0m\u001B[0;34m)\u001B[0m\u001B[0;34m\u001B[0m\u001B[0;34m\u001B[0m\u001B[0m\n",
      "\u001B[0;32m<ipython-input-5-9749d61a0058>\u001B[0m in \u001B[0;36mconvert_to_tfexample\u001B[0;34m(survived, pclass, name, sex, age, sibsp, parch, ticket, fare)\u001B[0m\n\u001B[1;32m     18\u001B[0m                 \u001B[0;34m'survived'\u001B[0m\u001B[0;34m:\u001B[0m \u001B[0mbuild_int64_feature\u001B[0m\u001B[0;34m(\u001B[0m\u001B[0msurvived\u001B[0m\u001B[0;34m)\u001B[0m\u001B[0;34m,\u001B[0m\u001B[0;34m\u001B[0m\u001B[0;34m\u001B[0m\u001B[0m\n\u001B[1;32m     19\u001B[0m                 \u001B[0;34m'pclass'\u001B[0m\u001B[0;34m:\u001B[0m \u001B[0mbuild_int64_feature\u001B[0m\u001B[0;34m(\u001B[0m\u001B[0mpclass\u001B[0m\u001B[0;34m)\u001B[0m\u001B[0;34m,\u001B[0m\u001B[0;34m\u001B[0m\u001B[0;34m\u001B[0m\u001B[0m\n\u001B[0;32m---> 20\u001B[0;31m                 \u001B[0;34m'name'\u001B[0m\u001B[0;34m:\u001B[0m \u001B[0mbuild_string_feature\u001B[0m\u001B[0;34m(\u001B[0m\u001B[0mname\u001B[0m\u001B[0;34m)\u001B[0m\u001B[0;34m,\u001B[0m\u001B[0;34m\u001B[0m\u001B[0;34m\u001B[0m\u001B[0m\n\u001B[0m\u001B[1;32m     21\u001B[0m                 \u001B[0;34m'sex'\u001B[0m\u001B[0;34m:\u001B[0m \u001B[0mbuild_string_feature\u001B[0m\u001B[0;34m(\u001B[0m\u001B[0msex\u001B[0m\u001B[0;34m)\u001B[0m\u001B[0;34m,\u001B[0m\u001B[0;34m\u001B[0m\u001B[0;34m\u001B[0m\u001B[0m\n\u001B[1;32m     22\u001B[0m                 \u001B[0;34m'age'\u001B[0m\u001B[0;34m:\u001B[0m \u001B[0mbuild_float_feature\u001B[0m\u001B[0;34m(\u001B[0m\u001B[0mage\u001B[0m\u001B[0;34m)\u001B[0m\u001B[0;34m,\u001B[0m\u001B[0;34m\u001B[0m\u001B[0;34m\u001B[0m\u001B[0m\n",
      "\u001B[0;32m<ipython-input-5-9749d61a0058>\u001B[0m in \u001B[0;36mbuild_string_feature\u001B[0;34m(data)\u001B[0m\n\u001B[1;32m      9\u001B[0m \u001B[0;31m# Generate String Features.\u001B[0m\u001B[0;34m\u001B[0m\u001B[0;34m\u001B[0m\u001B[0;34m\u001B[0m\u001B[0m\n\u001B[1;32m     10\u001B[0m \u001B[0;32mdef\u001B[0m \u001B[0mbuild_string_feature\u001B[0m\u001B[0;34m(\u001B[0m\u001B[0mdata\u001B[0m\u001B[0;34m)\u001B[0m\u001B[0;34m:\u001B[0m\u001B[0;34m\u001B[0m\u001B[0;34m\u001B[0m\u001B[0m\n\u001B[0;32m---> 11\u001B[0;31m     \u001B[0;32mreturn\u001B[0m \u001B[0mtf\u001B[0m\u001B[0;34m.\u001B[0m\u001B[0mtrain\u001B[0m\u001B[0;34m.\u001B[0m\u001B[0mFeature\u001B[0m\u001B[0;34m(\u001B[0m\u001B[0mbytes_list\u001B[0m\u001B[0;34m=\u001B[0m\u001B[0mtf\u001B[0m\u001B[0;34m.\u001B[0m\u001B[0mtrain\u001B[0m\u001B[0;34m.\u001B[0m\u001B[0mBytesList\u001B[0m\u001B[0;34m(\u001B[0m\u001B[0mvalue\u001B[0m\u001B[0;34m=\u001B[0m\u001B[0;34m[\u001B[0m\u001B[0mdata\u001B[0m\u001B[0;34m]\u001B[0m\u001B[0;34m)\u001B[0m\u001B[0;34m)\u001B[0m\u001B[0;34m\u001B[0m\u001B[0;34m\u001B[0m\u001B[0m\n\u001B[0m\u001B[1;32m     12\u001B[0m \u001B[0;34m\u001B[0m\u001B[0m\n\u001B[1;32m     13\u001B[0m \u001B[0;31m# Generate a TF `Example`, parsing all features of the dataset.\u001B[0m\u001B[0;34m\u001B[0m\u001B[0;34m\u001B[0m\u001B[0;34m\u001B[0m\u001B[0m\n",
      "\u001B[0;31mTypeError\u001B[0m: 'Allen, Miss. Elisabeth Walton' has type str, but expected one of: bytes"
     ]
    }
   ],
   "source": [
    "# Open dataset file.\n",
    "with open(\"titanic_dataset.csv\") as f:\n",
    "    # Output TFRecord file.\n",
    "    with tf.io.TFRecordWriter(\"titanic_dataset.tfrecord\") as w:\n",
    "        # Generate a TF Example for all row in our dataset.\n",
    "        # CSV reader will read and parse all rows.\n",
    "        reader = csv.reader(f, skipinitialspace=True)\n",
    "        for i, record in enumerate(reader):\n",
    "            # Skip header.\n",
    "            if i == 0:\n",
    "                continue\n",
    "            survived, pclass, name, sex, age, sibsp, parch, ticket, fare = record\n",
    "            # Parse each csv row to TF Example using the above functions.\n",
    "            example = convert_to_tfexample(int(survived), int(pclass), name, sex, float(age), int(sibsp), int(parch), ticket, float(fare))\n",
    "            # Serialize each TF Example to string, and write to TFRecord file.\n",
    "            w.write(example.SerializeToString())"
   ],
   "metadata": {
    "collapsed": false,
    "pycharm": {
     "name": "#%%\n"
    }
   }
  },
  {
   "cell_type": "code",
   "execution_count": null,
   "outputs": [],
   "source": [
    "\n"
   ],
   "metadata": {
    "collapsed": false,
    "pycharm": {
     "name": "#%%\n"
    }
   }
  }
 ],
 "metadata": {
  "kernelspec": {
   "display_name": "Python 3",
   "language": "python",
   "name": "python3"
  },
  "language_info": {
   "codemirror_mode": {
    "name": "ipython",
    "version": 2
   },
   "file_extension": ".py",
   "mimetype": "text/x-python",
   "name": "python",
   "nbconvert_exporter": "python",
   "pygments_lexer": "ipython2",
   "version": "2.7.6"
  }
 },
 "nbformat": 4,
 "nbformat_minor": 0
}